{
 "cells": [
  {
   "cell_type": "markdown",
   "metadata": {},
   "source": [
    "# Proposal dataset & plan"
   ]
  },
  {
   "cell_type": "markdown",
   "metadata": {},
   "source": [
    "## League dataset\n",
    "\n",
    "- The data is about League of Legends games, thus placing this dataset in the 'Gaming' domain.\n",
    "- The dataset contains 1000 records of real ranked games. \n",
    "- It's formatted in 10 files of JSON, 100 records in each file."
   ]
  },
  {
   "cell_type": "markdown",
   "metadata": {},
   "source": [
    "## Source\n",
    "\n",
    "The [Developer Portal](https://developer.riotgames.com/getting-started.html) links to _ten_ Amazon-hosted json-files. \n",
    "Direct links to these files:\n",
    "- https://s3-us-west-1.amazonaws.com/riot-developer-portal/seed-data/matches1.json\n",
    "- https://s3-us-west-1.amazonaws.com/riot-developer-portal/seed-data/matches2.json\n",
    "- https://s3-us-west-1.amazonaws.com/riot-developer-portal/seed-data/matches3.json\n",
    "- https://s3-us-west-1.amazonaws.com/riot-developer-portal/seed-data/matches4.json\n",
    "- https://s3-us-west-1.amazonaws.com/riot-developer-portal/seed-data/matches5.json\n",
    "- https://s3-us-west-1.amazonaws.com/riot-developer-portal/seed-data/matches6.json\n",
    "- https://s3-us-west-1.amazonaws.com/riot-developer-portal/seed-data/matches7.json\n",
    "- https://s3-us-west-1.amazonaws.com/riot-developer-portal/seed-data/matches8.json\n",
    "- https://s3-us-west-1.amazonaws.com/riot-developer-portal/seed-data/matches9.json\n",
    "- https://s3-us-west-1.amazonaws.com/riot-developer-portal/seed-data/matches10.json\n",
    "\n",
    "One sample record:\n",
    "```\n",
    "{  \n",
    "   \"gameId\":2585563902,\n",
    "   \"platformId\":\"NA1\",\n",
    "   \"gameCreation\":1504029097863,\n",
    "   \"gameDuration\":3509,\n",
    "   \"queueId\":420,\n",
    "   \"mapId\":11,\n",
    "   \"seasonId\":9,\n",
    "   \"gameVersion\":\"7.17.200.3955\",\n",
    "   \"gameMode\":\"CLASSIC\",\n",
    "   \"gameType\":\"MATCHED_GAME\",\n",
    "   \"teams\":[  \n",
    "      {  \n",
    "         \"teamId\":100,\n",
    "         \"win\":\"Win\",\n",
    "         \"firstBlood\":true,\n",
    "         \"firstTower\":false,\n",
    "         \"firstInhibitor\":false,\n",
    "         \"firstBaron\":false,\n",
    "         \"firstDragon\":false,\n",
    "         \"firstRiftHerald\":false,\n",
    "         \"towerKills\":9,\n",
    "         \"inhibitorKills\":1,\n",
    "         \"baronKills\":0,\n",
    "         \"dragonKills\":2,\n",
    "         \"vilemawKills\":0,\n",
    "         \"riftHeraldKills\":0,\n",
    "         \"dominionVictoryScore\":0,\n",
    "         \"bans\":[  ]\n",
    "      },\n",
    "      {  \n",
    "         \"teamId\":200,\n",
    "         \"win\":\"Fail\",\n",
    "         \"firstBlood\":false,\n",
    "         \"firstTower\":true,\n",
    "         \"firstInhibitor\":true,\n",
    "         \"firstBaron\":true,\n",
    "         \"firstDragon\":true,\n",
    "         \"firstRiftHerald\":false,\n",
    "         \"towerKills\":9,\n",
    "         \"inhibitorKills\":3,\n",
    "         \"baronKills\":2,\n",
    "         \"dragonKills\":3,\n",
    "         \"vilemawKills\":0,\n",
    "         \"riftHeraldKills\":0,\n",
    "         \"dominionVictoryScore\":0,\n",
    "         \"bans\":[  ]\n",
    "      }\n",
    "   ],\n",
    "   \"participants\":[  ],\n",
    "   \"participantIdentities\":[  ]\n",
    "}\n",
    "```"
   ]
  },
  {
   "cell_type": "markdown",
   "metadata": {},
   "source": [
    "## Research Question\n",
    "\n",
    "### Does a 'first-something' really have a big impact on whether or not a team eventually wins the game?\n",
    "_Clarification: does a team have a much higher chance to win a game, when they claimed first blood, reached for the first tower, or when they killed the first dragon?_\n"
   ]
  },
  {
   "cell_type": "markdown",
   "metadata": {},
   "source": [
    "## Plan\n",
    "\n",
    "I will look for correlations between 'firsts' (firstBlood, firstTower, etc...) and whether or not a team has won that game. Additionally, I could check if a combination of either one of them strongly impacts the win percentage of said team. For example: maybe firstBaron and firstDragon together strongly impact the statistical chance of winning a game "
   ]
  }
 ],
 "metadata": {
  "kernelspec": {
   "display_name": "Python 3",
   "language": "python",
   "name": "python3"
  },
  "language_info": {
   "codemirror_mode": {
    "name": "ipython",
    "version": 3
   },
   "file_extension": ".py",
   "mimetype": "text/x-python",
   "name": "python",
   "nbconvert_exporter": "python",
   "pygments_lexer": "ipython3",
   "version": "3.6.1"
  }
 },
 "nbformat": 4,
 "nbformat_minor": 2
}
