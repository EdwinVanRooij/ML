{
 "cells": [
  {
   "cell_type": "markdown",
   "metadata": {},
   "source": [
    "## NumPy Exercise Book"
   ]
  },
  {
   "cell_type": "markdown",
   "metadata": {},
   "source": [
    "#### Introduction"
   ]
  },
  {
   "cell_type": "markdown",
   "metadata": {},
   "source": [
    "In scikit-learn (sklearn) we will usually do the calculations with numerical arrays. As the built-in Python list is not suitable to serve as numeric array, sklearn utilizes NumPy arrays. The designers of NumPy took great care in making NumPy arrays in a \"pythonic\" way.\n",
    "\n",
    "NumPy arrays are more efficient than regular python lists because they are homogeneous: all elements are of the same type. As a consequence memory size only depends on the number of elements. This makes calculations much more efficient.\n",
    "\n",
    "In this exercise we will only focus on the array handling functionality of NumPy as this is what we will mostly use from NumPy when using sklearn. Under the hood, sklearn will use a lot more of NumPy's functionality, but we will stay away from the linear algebra jungle sklearn is built upon.  \n",
    "Please note these exercises only represent a tiny part of NumPy's functionality. What's more, these exercises only touch a small part of NumPy's array handling functionality. It's only meant to get you going in exploring NumPy's extensive array handling capabilities.\n",
    "\n",
    "Having finished this exercise book and want to know some more (I'm sure you will!): Robert Johansson created a nice introductory NumPy [notebook](https://goo.gl/zfsx77). "
   ]
  },
  {
   "cell_type": "markdown",
   "metadata": {},
   "source": [
    "#### Creating NumPy arrays"
   ]
  },
  {
   "cell_type": "code",
   "execution_count": 5,
   "metadata": {},
   "outputs": [
    {
     "name": "stdout",
     "output_type": "stream",
     "text": [
      "[1 2 3]\n",
      "[1 2 5]\n",
      "(1, 2, 5)\n",
      "[1, 2, 5]\n"
     ]
    }
   ],
   "source": [
    "import numpy as np\n",
    "# Numpy arrays are created from  python lists and tuples using the array function\n",
    "print(np.array([1,2,3]))   # from a list (note square brackets)\n",
    "print(np.array((1,2,5)))   # from a tuple (note parenthesis)\n",
    "print((1, 2, 5))\n",
    "print([1, 2, 5])"
   ]
  },
  {
   "cell_type": "code",
   "execution_count": 12,
   "metadata": {},
   "outputs": [
    {
     "data": {
      "text/plain": [
       "array([0, 0, 1, 2, 0])"
      ]
     },
     "execution_count": 12,
     "metadata": {},
     "output_type": "execute_result"
    }
   ],
   "source": [
    "# create an array for the string 'aacta' with lookup list ['a','c','t']\n",
    "# you should get array([0, 0, 1, 2, 0]) which is a simple numeric encoding of the string\n",
    "np.array([i for c in 'aacta' for i,ch in enumerate(['a','c','t']) if ch == c])"
   ]
  },
  {
   "cell_type": "markdown",
   "metadata": {},
   "source": [
    "I did the above by using the enumerate. How does this work? The ``enumerate(iterable, start=0)`` function return a so-called enumerate object. Iterable must be a sequence, an iterator, or some other object which supports iteration. The built-in ``__next__()`` method of the iterator returned by enumerate() returns a tuple containing a count (from start which defaults to 0) and the values obtained from iterating over iterable. Look at the following code snippet for an example! "
   ]
  },
  {
   "cell_type": "code",
   "execution_count": 11,
   "metadata": {},
   "outputs": [
    {
     "name": "stdout",
     "output_type": "stream",
     "text": [
      "[(0, 'Spring'), (1, 'Summer'), (2, 'Fall'), (3, 'Winter')]\n",
      "[(1, 'Spring'), (2, 'Summer'), (3, 'Fall'), (4, 'Winter')]\n",
      "\n",
      "First: 0, second: w\n",
      "First: 1, second: o\n",
      "First: 2, second: r\n",
      "First: 3, second: d\n",
      "First: 4, second: w\n"
     ]
    }
   ],
   "source": [
    "seasons = ['Spring', 'Summer', 'Fall', 'Winter']\n",
    "print(list(enumerate(seasons)))\n",
    "print(list(enumerate(seasons, start=1)))\n",
    "print()\n",
    "\n",
    "wordw = 'wordw'\n",
    "iterable = enumerate(wordw)\n",
    "\n",
    "for i, it in iterable:\n",
    "    print(\"First: {}, second: {}\".format(i, it))"
   ]
  },
  {
   "cell_type": "code",
   "execution_count": 5,
   "metadata": {},
   "outputs": [
    {
     "data": {
      "text/plain": [
       "array([20, 11, 12,  6,  1,  7])"
      ]
     },
     "execution_count": 5,
     "metadata": {},
     "output_type": "execute_result"
    }
   ],
   "source": [
    "# Now let's encode the string  \"fontys\" in such a way that each character is encoded with the reverse number of the \n",
    "# alphabet: a=26, z=1; you should get:\n",
    "# array([20, 11, 12,  6,  1,  7])\n",
    "i for c in 'fontys':\n",
    "    for i, ch in enumerate()"
   ]
  },
  {
   "cell_type": "code",
   "execution_count": 18,
   "metadata": {},
   "outputs": [
    {
     "name": "stdout",
     "output_type": "stream",
     "text": [
      "[1 2 3]\n"
     ]
    }
   ],
   "source": [
    "# That was a nice recap of last weeks's exercises\n",
    "# Usually we will work with arrays of floats and we can pass the data type upon creation:\n",
    "array = np.array([1,2,3], int)\n",
    "\n",
    "# Or just np.array([1,2,3], float) \n",
    "\n",
    "print(array)"
   ]
  },
  {
   "cell_type": "code",
   "execution_count": 19,
   "metadata": {},
   "outputs": [
    {
     "data": {
      "text/plain": [
       "array([[1, 2, 3],\n",
       "       [3, 2, 1]])"
      ]
     },
     "execution_count": 19,
     "metadata": {},
     "output_type": "execute_result"
    }
   ],
   "source": [
    "# In sklearn we will often work with multi-dimensional arrays (matrices); create the array ([1,2,3],[3,2,1])\n",
    "np.array([[1,2,3],[3,2,1]])"
   ]
  },
  {
   "cell_type": "code",
   "execution_count": 21,
   "metadata": {},
   "outputs": [
    {
     "data": {
      "text/plain": [
       "array([[1, 2, 3],\n",
       "       [3, 2, 1],\n",
       "       [2, 2, 2]])"
      ]
     },
     "execution_count": 21,
     "metadata": {},
     "output_type": "execute_result"
    }
   ],
   "source": [
    "# What happens if the rows are not of equal size; \n",
    "np.array([[1,2,3],[3,2,1],[2,2,2]])\n",
    "\n",
    "# You 'll get a 1 dimensional array of objects!"
   ]
  },
  {
   "cell_type": "code",
   "execution_count": 35,
   "metadata": {},
   "outputs": [
    {
     "name": "stdout",
     "output_type": "stream",
     "text": [
      "[[1 2]\n",
      " [1 2]\n",
      " [2 2]\n",
      " [3 3]]\n",
      "[[1 1 2 3]\n",
      " [2 2 2 3]]\n"
     ]
    }
   ],
   "source": [
    "# You just created a  2 x 3 array. How can you create the mirrored 2 x 3 array of the original data?\n",
    "# Use np.transpose\n",
    "list_one = [1,2]\n",
    "list_two = [1,2]\n",
    "list_three = [2,2]\n",
    "list_four = [3,3]\n",
    "np_array = np.array([list_one, list_two, list_three, list_four])\n",
    "print(np_array)\n",
    "\n",
    "print(np_array.T)"
   ]
  },
  {
   "cell_type": "code",
   "execution_count": 2,
   "metadata": {},
   "outputs": [
    {
     "data": {
      "text/plain": [
       "array([[1, 3],\n",
       "       [2, 2],\n",
       "       [3, 1]])"
      ]
     },
     "execution_count": 2,
     "metadata": {},
     "output_type": "execute_result"
    }
   ],
   "source": [
    "# or even easier: use the .T attribute\n"
   ]
  },
  {
   "cell_type": "code",
   "execution_count": 9,
   "metadata": {},
   "outputs": [
    {
     "name": "stdout",
     "output_type": "stream",
     "text": [
      "(2, 3) 2 6\n"
     ]
    }
   ],
   "source": [
    "# Each array has a number of properties\n",
    "# We will often use shape, ndim (number of dimensions) and size (number of elements) properties\n",
    "# get shape, ndim and size of the array below\n",
    "M = np.array([[1,2,3],[3,2,1]])\n",
    "print(M.shape, M.ndim, M.size)"
   ]
  },
  {
   "cell_type": "code",
   "execution_count": 11,
   "metadata": {},
   "outputs": [
    {
     "data": {
      "text/plain": [
       "True"
      ]
     },
     "execution_count": 11,
     "metadata": {},
     "output_type": "execute_result"
    }
   ],
   "source": [
    "# The number of dimensions is equal to the number of elements in the shape vector.\n",
    "# The array size is equal to the product of the shape elements\n",
    "# Proof both:\n",
    "sz = 1\n",
    "for i in range(len(M.shape)):\n",
    "    sz *= M.shape[i]\n",
    "M.size == sz and len(M.shape) == M.ndim"
   ]
  },
  {
   "cell_type": "code",
   "execution_count": 13,
   "metadata": {},
   "outputs": [
    {
     "data": {
      "text/plain": [
       "6"
      ]
     },
     "execution_count": 13,
     "metadata": {},
     "output_type": "execute_result"
    }
   ],
   "source": [
    "# Although a.size is only a short tuple, it is common to write for loops as above with a reduce (it's the same reduce \n",
    "# from the map/reduce algorithm)\n",
    "# Import the reduce from itertools and combine with a lambda to rewrite above for loop\n",
    "from functools import reduce\n",
    "reduce(lambda x, y: x * y, M.shape)"
   ]
  },
  {
   "cell_type": "code",
   "execution_count": 14,
   "metadata": {},
   "outputs": [
    {
     "name": "stdout",
     "output_type": "stream",
     "text": [
      "['MappingProxyType', 'RLock', 'WRAPPER_ASSIGNMENTS', 'WRAPPER_UPDATES', 'WeakKeyDictionary', '_CacheInfo', '_HashedSeq', '__all__', '__builtins__', '__cached__', '__doc__', '__file__', '__loader__', '__name__', '__package__', '__spec__', '_c3_merge', '_c3_mro', '_compose_mro', '_find_impl', '_ge_from_gt', '_ge_from_le', '_ge_from_lt', '_gt_from_ge', '_gt_from_le', '_gt_from_lt', '_le_from_ge', '_le_from_gt', '_le_from_lt', '_lt_from_ge', '_lt_from_gt', '_lt_from_le', '_make_key', 'cmp_to_key', 'get_cache_token', 'lru_cache', 'namedtuple', 'partial', 'partialmethod', 'reduce', 'singledispatch', 'total_ordering', 'update_wrapper', 'wraps']\n"
     ]
    }
   ],
   "source": [
    "# Want to know what other goodies are stuffed in the functools module? (first you have to import the complete module)\n",
    "import functools\n",
    "print(dir(functools))"
   ]
  },
  {
   "cell_type": "code",
   "execution_count": 15,
   "metadata": {},
   "outputs": [
    {
     "name": "stdout",
     "output_type": "stream",
     "text": [
      "Help on built-in function reduce in module _functools:\n",
      "\n",
      "reduce(...)\n",
      "    reduce(function, sequence[, initial]) -> value\n",
      "    \n",
      "    Apply a function of two arguments cumulatively to the items of a sequence,\n",
      "    from left to right, so as to reduce the sequence to a single value.\n",
      "    For example, reduce(lambda x, y: x+y, [1, 2, 3, 4, 5]) calculates\n",
      "    ((((1+2)+3)+4)+5).  If initial is present, it is placed before the items\n",
      "    of the sequence in the calculation, and serves as a default when the\n",
      "    sequence is empty.\n",
      "\n"
     ]
    }
   ],
   "source": [
    "# Want to know specifically about reduce():\n",
    "help(functools.reduce)"
   ]
  },
  {
   "cell_type": "code",
   "execution_count": 16,
   "metadata": {
    "collapsed": true
   },
   "outputs": [],
   "source": [
    "# You can also use the magic command ? Now help is directed to a separate window, called the pager\n",
    "# Btw, we can use reduce without the functools qualifier as we've imported it directly into our namespace\n",
    "?reduce"
   ]
  },
  {
   "cell_type": "code",
   "execution_count": 18,
   "metadata": {},
   "outputs": [
    {
     "data": {
      "text/plain": [
       "True"
      ]
     },
     "execution_count": 18,
     "metadata": {},
     "output_type": "execute_result"
    }
   ],
   "source": [
    "# You can avoid the lambda by using straight operator reduction\n",
    "# Import the mul (multiply) operator from the operator module\n",
    "from operator import mul\n",
    "reduce(mul, M.shape) == M.size and len(M.shape) == M.ndim"
   ]
  },
  {
   "cell_type": "code",
   "execution_count": 19,
   "metadata": {},
   "outputs": [
    {
     "name": "stdout",
     "output_type": "stream",
     "text": [
      "The slowest run took 12.87 times longer than the fastest. This could mean that an intermediate result is being cached \n",
      "1000000 loops, best of 3: 491 ns per loop\n",
      "The slowest run took 27.35 times longer than the fastest. This could mean that an intermediate result is being cached \n",
      "1000000 loops, best of 3: 332 ns per loop\n"
     ]
    }
   ],
   "source": [
    "# use #timeit to compare performance of lambda versus operator.mul\n",
    "%timeit reduce(lambda x, y: x * y, M.shape)\n",
    "%timeit reduce(mul, M.shape)"
   ]
  },
  {
   "cell_type": "markdown",
   "metadata": {},
   "source": [
    "#### Automatic Array Creation"
   ]
  },
  {
   "cell_type": "code",
   "execution_count": 52,
   "metadata": {},
   "outputs": [
    {
     "name": "stdout",
     "output_type": "stream",
     "text": [
      "[[ 0.  0.]\n",
      " [ 1.  1.]\n",
      " [ 2.  2.]\n",
      " [ 3.  3.]\n",
      " [ 4.  4.]]\n"
     ]
    }
   ],
   "source": [
    "# Use np.zeros to create an array of 0's\n",
    "\n",
    "zeros_array = np.arange(5.)\n",
    "array = np.array([range(5),zeros_array])\n",
    "print(array.T)"
   ]
  },
  {
   "cell_type": "code",
   "execution_count": 22,
   "metadata": {},
   "outputs": [
    {
     "data": {
      "text/plain": [
       "array([[ 0.,  0.],\n",
       "       [ 0.,  0.],\n",
       "       [ 0.,  0.]])"
      ]
     },
     "execution_count": 22,
     "metadata": {},
     "output_type": "execute_result"
    }
   ],
   "source": [
    "# You can morph to a required shape in the same constructor:\n",
    "np.zeros((3,2))    # parenthesis are required as zeros() can have more params. See ?np.zeros"
   ]
  },
  {
   "cell_type": "code",
   "execution_count": 23,
   "metadata": {},
   "outputs": [
    {
     "data": {
      "text/plain": [
       "array([ 1.,  1.,  1.,  1.,  1.])"
      ]
     },
     "execution_count": 23,
     "metadata": {},
     "output_type": "execute_result"
    }
   ],
   "source": [
    "# Use np.ones to create an array of 1's\n",
    "np.ones(5)"
   ]
  },
  {
   "cell_type": "code",
   "execution_count": 24,
   "metadata": {},
   "outputs": [
    {
     "data": {
      "text/plain": [
       "array([0, 1, 2, 3, 4, 5, 6, 7, 8, 9])"
      ]
     },
     "execution_count": 24,
     "metadata": {},
     "output_type": "execute_result"
    }
   ],
   "source": [
    "# np.arange can be used to create an array from a range\n",
    "# create array([0, 1, 2, 3, 4, 5, 6, 7, 8, 9]) using arange()\n",
    "np.arange(10)"
   ]
  },
  {
   "cell_type": "code",
   "execution_count": 26,
   "metadata": {},
   "outputs": [
    {
     "data": {
      "text/plain": [
       "array([ 0. ,  0.1,  0.2,  0.3,  0.4,  0.5,  0.6,  0.7,  0.8,  0.9])"
      ]
     },
     "execution_count": 26,
     "metadata": {},
     "output_type": "execute_result"
    }
   ],
   "source": [
    "# With arange() you can use the same parameters as with range():\n",
    "np.arange(0, 1, 0.1)"
   ]
  },
  {
   "cell_type": "code",
   "execution_count": 28,
   "metadata": {},
   "outputs": [
    {
     "data": {
      "text/plain": [
       "array([ 1. ,  1.1,  1.2,  1.3,  1.4,  1.5,  1.6,  1.7,  1.8,  1.9,  2. ])"
      ]
     },
     "execution_count": 28,
     "metadata": {},
     "output_type": "execute_result"
    }
   ],
   "source": [
    "# Use np.linspace tocreate arrays with a specified number of elements, spaced equally between specified beginning and \n",
    "# end values\n",
    "# Create array([1. ,  1.1,  1.2,  1.3,  1.4,  1.5,  1.6,  1.7,  1.8,  1.9,  2. ])\n",
    "np.linspace(1., 2., 11)"
   ]
  },
  {
   "cell_type": "code",
   "execution_count": 30,
   "metadata": {},
   "outputs": [
    {
     "data": {
      "text/plain": [
       "array([ 1.        ,  1.24884887,  1.5596235 ,  1.94773404,  2.43242545,\n",
       "        3.03773178,  3.79366789,  4.73771786,  5.91669359,  7.3890561 ])"
      ]
     },
     "execution_count": 30,
     "metadata": {},
     "output_type": "execute_result"
    }
   ],
   "source": [
    "# You can use logscale() to generate evenly spaced numbers on a log scale; see ?np.logspace\n",
    "from math import e\n",
    "np.logspace(0, 2, 10, base=e)"
   ]
  },
  {
   "cell_type": "code",
   "execution_count": 34,
   "metadata": {},
   "outputs": [
    {
     "data": {
      "image/png": "[encoded data removed]",
      "text/plain": [
       "<matplotlib.figure.Figure at 0x741e128>"
      ]
     },
     "metadata": {},
     "output_type": "display_data"
    }
   ],
   "source": [
    "# Try to plot np.linspace(0., 20., 10) and  np.logspace(0, 3, 10, base=e) in a plot using matplotlib\n",
    "# New? Didn't you already learn this in visualization ...\n",
    "%matplotlib inline\n",
    "import matplotlib.pyplot as plt\n",
    "plt.plot(range(10), np.logspace(0, 3, 10, base=e), label='log')\n",
    "plt.plot(range(10), np.linspace(0, 20, 10), label='linear')\n",
    "plt.legend(loc='best')\n",
    "plt.show()"
   ]
  },
  {
   "cell_type": "code",
   "execution_count": 35,
   "metadata": {},
   "outputs": [
    {
     "data": {
      "text/plain": [
       "3.7200759760208555e-44"
      ]
     },
     "execution_count": 35,
     "metadata": {},
     "output_type": "execute_result"
    }
   ],
   "source": [
    "e**-100"
   ]
  },
  {
   "cell_type": "code",
   "execution_count": 38,
   "metadata": {},
   "outputs": [
    {
     "data": {
      "text/plain": [
       "array([[ 0.9021067 ,  0.44890912,  0.20787987],\n",
       "       [ 0.89791488,  0.35125111,  0.48962944]])"
      ]
     },
     "execution_count": 38,
     "metadata": {},
     "output_type": "execute_result"
    }
   ],
   "source": [
    "# For test data in sklearn, we wil often use randomly created data\n",
    "# Create a 2x3 array of random data between 0 and 1\n"
   ]
  },
  {
   "cell_type": "code",
   "execution_count": 40,
   "metadata": {},
   "outputs": [
    {
     "data": {
      "text/plain": [
       "array([ 6.06780564,  6.07787197,  6.77033481,  5.8754194 ,  8.20706895,\n",
       "        5.99798823,  6.60845002,  4.68472427,  4.99133441,  6.63304091,\n",
       "        5.77023812,  6.72545434,  7.28011329,  7.7772658 ,  7.29025351,\n",
       "        3.93301041,  6.69075726,  9.58924014,  7.03999378,  6.33802791])"
      ]
     },
     "execution_count": 40,
     "metadata": {},
     "output_type": "execute_result"
    }
   ],
   "source": [
    "# There are many ways to draw random numbers.\n",
    "# Draw 24 random numbers from a normalized distribution with mean 6.75 and stddev 2\n",
    "# This could be used to simulate class grades ...\n"
   ]
  },
  {
   "cell_type": "markdown",
   "metadata": {},
   "source": [
    "#### Importing data from CSV files\n",
    "Often, extracting and cleaning data is executed in a separate process. It is the process you learn all about in the Getting and Cleaning Data course. Often, the result of this process is a CSV file, that can be used for further analysis with, for instance pandas or sklearn. Numpy has dedicated facilities to read data from a CSV file into an array."
   ]
  },
  {
   "cell_type": "code",
   "execution_count": 65,
   "metadata": {
    "scrolled": true
   },
   "outputs": [
    {
     "name": "stdout",
     "output_type": "stream",
     "text": [
      "           Tijdstempel              What type of chocolate do you prefer?  \\\n",
      "0    2-3-2016 14:11:03                                               asdf   \n",
      "1    2-3-2016 14:11:35                                             dfasdf   \n",
      "2    2-3-2016 14:12:38                                            asdfasd   \n",
      "3    2-3-2016 14:15:18                                             dsfger   \n",
      "4    8-9-2016 13:20:59                                               dark   \n",
      "5    8-9-2016 13:20:59                                               Milk   \n",
      "6    8-9-2016 13:21:01                                               dark   \n",
      "7    8-9-2016 13:21:05                                          Chocolate   \n",
      "8    8-9-2016 13:21:06                                               Milk   \n",
      "9    8-9-2016 13:21:11                                         Dien echte   \n",
      "10   8-9-2016 13:21:14                                              White   \n",
      "11   8-9-2016 13:21:15                                              White   \n",
      "12   8-9-2016 13:21:19                                               Dark   \n",
      "13   8-9-2016 13:21:20                                           hazelnut   \n",
      "14   8-9-2016 13:21:20                                              Brown   \n",
      "15   8-9-2016 13:21:32                                               puur   \n",
      "16   8-9-2016 13:21:42                    Blacker than the blackest black   \n",
      "17   8-9-2016 13:21:50                                              White   \n",
      "18   8-9-2016 13:21:51                                               Melk   \n",
      "19   8-9-2016 13:21:56                                              White   \n",
      "20   8-9-2016 13:22:04                                               Milk   \n",
      "21   8-9-2016 13:22:11                                               Milk   \n",
      "22   8-9-2016 13:22:11                                               Dark   \n",
      "23   8-9-2016 13:22:13                                               Pure   \n",
      "24   8-9-2016 13:22:14                                           Que Puur   \n",
      "25   8-9-2016 13:22:26                                               Dark   \n",
      "26   8-9-2016 13:22:53                                               pure   \n",
      "27   8-9-2016 13:23:03                                               Pure   \n",
      "28   8-9-2016 13:23:16                                              White   \n",
      "29   8-9-2016 13:23:39                                              White   \n",
      "..                 ...                                                ...   \n",
      "113  6-9-2017 13:03:45                                               Pure   \n",
      "114  6-9-2017 13:04:30                                              Black   \n",
      "115  6-9-2017 13:04:40                                              white   \n",
      "116  6-9-2017 13:05:10                                               Pure   \n",
      "117  6-9-2017 13:05:16                                               milk   \n",
      "118  6-9-2017 13:05:23                                               Milk   \n",
      "119  6-9-2017 13:05:54                                Milk with hazelnoot   \n",
      "120  6-9-2017 13:06:04                                               Milk   \n",
      "121  6-9-2017 13:06:07                                               Milk   \n",
      "122  6-9-2017 13:06:29                                     Puur chocolade   \n",
      "123  6-9-2017 13:06:30                                               Milk   \n",
      "124  6-9-2017 13:06:50                                            Nothing   \n",
      "125  6-9-2017 13:06:52                                         Dark black   \n",
      "126  6-9-2017 13:06:57                                               milk   \n",
      "127  6-9-2017 13:07:20                                                NaN   \n",
      "128  6-9-2017 13:07:29                                            Nothing   \n",
      "129  6-9-2017 13:09:05                                         pure white   \n",
      "130  6-9-2017 13:09:20                              triple chocolate oreo   \n",
      "131  6-9-2017 13:10:53                                                NaN   \n",
      "132  6-9-2017 13:14:38                                    Zeezout karamel   \n",
      "133  6-9-2017 13:17:21                                               What   \n",
      "134  6-9-2017 13:18:41        https://www.youtube.com/watch?v=dQw4w9WgXcQ   \n",
      "135  6-9-2017 13:21:55                                              We're   \n",
      "136  6-9-2017 13:26:24                                           Somebody   \n",
      "137  6-9-2017 13:27:55                                               bier   \n",
      "138  6-9-2017 13:38:20                                              府会島畠事   \n",
      "139  6-9-2017 13:41:44         .--'''''''''--.         .'      .---.  ...   \n",
      "140  6-9-2017 13:43:36                   http://imgur.com/gallery/dKTpRxa   \n",
      "141  6-9-2017 13:57:00                                               bier   \n",
      "142  6-9-2017 15:18:52                                               Milk   \n",
      "\n",
      "           What kind of mobile phone do you own?  \\\n",
      "0                                            pdf   \n",
      "1                                         sfdafg   \n",
      "2                                           fads   \n",
      "3                                           erre   \n",
      "4                                         iPhone   \n",
      "5                                        Samsung   \n",
      "6                                             lg   \n",
      "7                                  I made my own   \n",
      "8                                        Android   \n",
      "9                                D´ne Samsung ey   \n",
      "10                                    HTC One M8   \n",
      "11                                        Iphone   \n",
      "12                                     Galaxy S5   \n",
      "13                                   LG Nexus 5x   \n",
      "14                                      iPhone 6   \n",
      "15                                      motorola   \n",
      "16                                    Smangsmung   \n",
      "17                        Samsung Galaxy Mini S5   \n",
      "18                                       Samsung   \n",
      "19                                      Android    \n",
      "20                                       Samsung   \n",
      "21                             Samsung galaxy s6   \n",
      "22                                     Nokia 735   \n",
      "23                                            LG   \n",
      "24                            Que Galaxy S7 Edge   \n",
      "25                                       Android   \n",
      "26                                        iphone   \n",
      "27                                         Apple   \n",
      "28                                            LG   \n",
      "29                        Sony Xperia z5 premium   \n",
      "..                                           ...   \n",
      "113                                      Android   \n",
      "114                                Sony Xperia E   \n",
      "115                                     Motorola   \n",
      "116                         OnePlus 5 MasterRace   \n",
      "117                                   Samsung S6   \n",
      "118                                    iPhone SE   \n",
      "119                    Nokia from stenentijdperk   \n",
      "120                            Samsung Galaxy S5   \n",
      "121                                      Samsung   \n",
      "122                            Samsung Galaxy A5   \n",
      "123                                    OnePlus 3   \n",
      "124                                      OnePlus   \n",
      "125                             Apple iPhone 6 S   \n",
      "126                                     one plus   \n",
      "127                            monterola g5 plus   \n",
      "128                                      OnePlus   \n",
      "129                                   nokia 3310   \n",
      "130                                       iphone   \n",
      "131                                          NaN   \n",
      "132                                          NaN   \n",
      "133                                           is   \n",
      "134  https://www.youtube.com/watch?v=dQw4w9WgXcQ   \n",
      "135                                           no   \n",
      "136                                         once   \n",
      "137                                         bier   \n",
      "138                                        府会島畠事   \n",
      "139                                          NaN   \n",
      "140                                          NaN   \n",
      "141                                         bier   \n",
      "142                                       Huawei   \n",
      "\n",
      "                            What is your gender?  \\\n",
      "0                                            pdf   \n",
      "1                                      fgasdfasd   \n",
      "2                                           sofa   \n",
      "3                                            ert   \n",
      "4                                           Male   \n",
      "5                                           Male   \n",
      "6                                           male   \n",
      "7                                           Male   \n",
      "8                                              M   \n",
      "9                                    Manneke Pis   \n",
      "10                                          Male   \n",
      "11                                        Female   \n",
      "12                                    !@#$%^&*()   \n",
      "13                                           Man   \n",
      "14                                          Male   \n",
      "15                                         vrouw   \n",
      "16                                  Trans-Gender   \n",
      "17                                          Male   \n",
      "18                                           Man   \n",
      "19                                          Male   \n",
      "20                                          Male   \n",
      "21                                          Male   \n",
      "22                                          Male   \n",
      "23                                        Female   \n",
      "24                                       Que Man   \n",
      "25                                          Male   \n",
      "26                                          male   \n",
      "27                                          Male   \n",
      "28                                        Female   \n",
      "29                                          Male   \n",
      "..                                           ...   \n",
      "113                                         Male   \n",
      "114                                         Male   \n",
      "115                                          Man   \n",
      "116                                         Male   \n",
      "117                                         Male   \n",
      "118                                         Male   \n",
      "119                                   Alpha Male   \n",
      "120                                         Male   \n",
      "121                                         Male   \n",
      "122                                         Male   \n",
      "123                                         Meel   \n",
      "124                                         Male   \n",
      "125                                   Helicopter   \n",
      "126                                         male   \n",
      "127                                         male   \n",
      "128                                         Male   \n",
      "129                                  transgender   \n",
      "130                                          man   \n",
      "131                                          NaN   \n",
      "132                                          NaN   \n",
      "133                                         love   \n",
      "134  https://www.youtube.com/watch?v=dQw4w9WgXcQ   \n",
      "135                                    strangers   \n",
      "136                                         told   \n",
      "137                                         bier   \n",
      "138              川組転覧断離外拡不反売雑月段返順合。方紙口米死員著第投場性定示   \n",
      "139                                          NaN   \n",
      "140                                          NaN   \n",
      "141                                         bier   \n",
      "142                                         Male   \n",
      "\n",
      "                       What is your nationality?  \\\n",
      "0                                             ff   \n",
      "1                                            NaN   \n",
      "2                                            NaN   \n",
      "3                                          bdsfg   \n",
      "4                                          Dutch   \n",
      "5                                          Dutch   \n",
      "6                                          dutch   \n",
      "7                                          Dutch   \n",
      "8                                          Dutch   \n",
      "9                                        Vlaming   \n",
      "10                                         Dutch   \n",
      "11                                         Dutch   \n",
      "12                                         Mario   \n",
      "13                                         Dutch   \n",
      "14                                         Dutch   \n",
      "15                                    Nederlands   \n",
      "16                                    Nederlands   \n",
      "17                                         Dutch   \n",
      "18                                    Nederlands   \n",
      "19                                         Dutch   \n",
      "20                                            NL   \n",
      "21                                   Netherlands   \n",
      "22                                         Dutch   \n",
      "23                                         Dutch   \n",
      "24                                Que Nederlands   \n",
      "25                                         Dutch   \n",
      "26                                         dutch   \n",
      "27                                   Netherlands   \n",
      "28                                         Dutch   \n",
      "29                                         Dutch   \n",
      "..                                           ...   \n",
      "113                                        Dutch   \n",
      "114                                        Dutch   \n",
      "115                                        Dutch   \n",
      "116                                        Dutch   \n",
      "117                                        Dutch   \n",
      "118                                        Dutch   \n",
      "119                                        Dutch   \n",
      "120                              The Netherlands   \n",
      "121                                        Dutch   \n",
      "122                                        Dutch   \n",
      "123                                        Dutch   \n",
      "124                                  Nederlandse   \n",
      "125                                   Nederlands   \n",
      "126                                        Dutch   \n",
      "127                                        dutch   \n",
      "128                                  Nederlandse   \n",
      "129                                       Muslim   \n",
      "130                                        dutch   \n",
      "131                                          NaN   \n",
      "132                                          NaN   \n",
      "133                                            ?   \n",
      "134  https://www.youtube.com/watch?v=dQw4w9WgXcQ   \n",
      "135                                           to   \n",
      "136                                           me   \n",
      "137                                         bier   \n",
      "138          川組転覧断離外拡不反政子終食国断創。威講頑来般症懸経例門売雑月場性定示   \n",
      "139                                          NaN   \n",
      "140                                          NaN   \n",
      "141                                         bier   \n",
      "142                                        Dutch   \n",
      "\n",
      "         How did you travel to university today?  \\\n",
      "0                                              f   \n",
      "1                                            NaN   \n",
      "2                                            NaN   \n",
      "3                                            NaN   \n",
      "4                              Bike, train & bus   \n",
      "5                                            Car   \n",
      "6                                          train   \n",
      "7                                          Train   \n",
      "8                                           Bike   \n",
      "9                             Met Dn benenwoagen   \n",
      "10                                       Bycicle   \n",
      "11                                       Bicycle   \n",
      "12                                       On foot   \n",
      "13              I did not travel to a university   \n",
      "14                                         Train   \n",
      "15                                         trein   \n",
      "16                                        Segway   \n",
      "17                                           Bus   \n",
      "18                                           Bus   \n",
      "19                                           Bus   \n",
      "20                                           Bus   \n",
      "21                              Public transport   \n",
      "22                                       Bicycle   \n",
      "23                                        By car   \n",
      "24                                       Que Bus   \n",
      "25                                           Car   \n",
      "26                              public transport   \n",
      "27                                      by train   \n",
      "28                                           Car   \n",
      "29                                      by train   \n",
      "..                                           ...   \n",
      "113                                      Scooter   \n",
      "114                                      Bicycle   \n",
      "115                                          Car   \n",
      "116                                      Scooter   \n",
      "117                                          Car   \n",
      "118                                         Bike   \n",
      "119                                   Linkerbaan   \n",
      "120                                         Bike   \n",
      "121                                        Train   \n",
      "122                                      By Bike   \n",
      "123                                      Bicycle   \n",
      "124                     I was cycling to college   \n",
      "125                 By Bycicle and train and bus   \n",
      "126                          bike, train and bus   \n",
      "127                                          car   \n",
      "128                     I was cycling to college   \n",
      "129                                        Camel   \n",
      "130                                           OV   \n",
      "131                                          NaN   \n",
      "132                                          NaN   \n",
      "133                                         Baby   \n",
      "134  https://www.youtube.com/watch?v=dQw4w9WgXcQ   \n",
      "135                                         love   \n",
      "136                                          the   \n",
      "137                                         bier   \n",
      "138                                        府会島畠事   \n",
      "139                                          NaN   \n",
      "140                                       Ahhhhh   \n",
      "141                                         bier   \n",
      "142                               Public transit   \n",
      "\n",
      "               What subject are you majoring in?  \\\n",
      "0                                           fads   \n",
      "1                                            NaN   \n",
      "2                                            NaN   \n",
      "3                                            NaN   \n",
      "4                           Software Engineering   \n",
      "5                           Software Engineering   \n",
      "6                                    mathematics   \n",
      "7                                       Software   \n",
      "8                               Computer Science   \n",
      "9                                         Vlaams   \n",
      "10                          Business Informatics   \n",
      "11                      Mathematical Engineering   \n",
      "12                                Drawing Pingas   \n",
      "13                                       ads-gcd   \n",
      "14                          Software Engineering   \n",
      "15                                           NaN   \n",
      "16                                      Googling   \n",
      "17                                ICT & Business   \n",
      "18                                      Software   \n",
      "19                          Software Engineering   \n",
      "20                          Software Engineering   \n",
      "21                                           ICT   \n",
      "22                                  Media Design   \n",
      "23                      Mathematical engineering   \n",
      "24                      Que Software Engineering   \n",
      "25                          Software Engineering   \n",
      "26                                      Software   \n",
      "27                             Software Engineer   \n",
      "28                      Mathematical Engineering   \n",
      "29                          Software Engineering   \n",
      "..                                           ...   \n",
      "113                                     Software   \n",
      "114                         Software Engineering   \n",
      "115                         Software engineering   \n",
      "116                                     Software   \n",
      "117                         Software Engineering   \n",
      "118                         Software Engineering   \n",
      "119                                 Data Science   \n",
      "120                         Software Engineering   \n",
      "121                   ICT & Software Engineering   \n",
      "122                         Software Engineering   \n",
      "123                         Software Engineering   \n",
      "124                             Computer Science   \n",
      "125                        Software ontwikkeling   \n",
      "126                         Software Engineering   \n",
      "127                         software engineering   \n",
      "128                             Computer Science   \n",
      "129                                        drugs   \n",
      "130                                         Data   \n",
      "131                                          NaN   \n",
      "132                                          NaN   \n",
      "133                                        don't   \n",
      "134  https://www.youtube.com/watch?v=dQw4w9WgXcQ   \n",
      "135                                          You   \n",
      "136                                        world   \n",
      "137                                         bier   \n",
      "138                                            示   \n",
      "139                                          NaN   \n",
      "140                                      yeahhhh   \n",
      "141                                         bier   \n",
      "142                                     Software   \n",
      "\n",
      "                    How often do you check Facebook?  \\\n",
      "0                                                 af   \n",
      "1                                                NaN   \n",
      "2                                                NaN   \n",
      "3                                                NaN   \n",
      "4                                   What is facebook   \n",
      "5                                              Daily   \n",
      "6                                         50 per day   \n",
      "7                                              Never   \n",
      "8                             Multiple times per day   \n",
      "9                             Fransen zijn verraders   \n",
      "10                                     2 times a day   \n",
      "11                                                 0   \n",
      "12                                            Never.   \n",
      "13                                    20 times a day   \n",
      "14                                             A lot   \n",
      "15                                         dagelijks   \n",
      "16                                             never   \n",
      "17                                             Daily   \n",
      "18                                        5x per dag   \n",
      "19                                         Not often   \n",
      "20                                             Never   \n",
      "21                                            daylie   \n",
      "22                                             Often   \n",
      "23                                  One time an hour   \n",
      "24                                          Quattro    \n",
      "25                                           2 times   \n",
      "26                                  about once a day   \n",
      "27                                 20938 times a day   \n",
      "28                                                10   \n",
      "29                                  Every 15 minutes   \n",
      "..                                               ...   \n",
      "113                                       once a day   \n",
      "114                                            Never   \n",
      "115                               2 to 3 times a day   \n",
      "116                                       once a day   \n",
      "117                                         To often   \n",
      "118                                            Never   \n",
      "119                                                1   \n",
      "120                                        20x a day   \n",
      "121                                           Rarely   \n",
      "122                                       Once a day   \n",
      "123                                            Never   \n",
      "124  It's open but that pice of shit barely get read   \n",
      "125                                      once a hour   \n",
      "126                                    twice a month   \n",
      "127                              once every few days   \n",
      "128  It's open but that pice of shit barely get read   \n",
      "129                                            never   \n",
      "130                                             many   \n",
      "131                                              NaN   \n",
      "132                                              NaN   \n",
      "133                                               me   \n",
      "134      https://www.youtube.com/watch?v=dQw4w9WgXcQ   \n",
      "135                                             know   \n",
      "136                                            gonna   \n",
      "137                                             bier   \n",
      "138                                              川組転   \n",
      "139                                              NaN   \n",
      "140                                              NaN   \n",
      "141                                             bier   \n",
      "142                                       once a day   \n",
      "\n",
      "          How many pairs of trousers do you own?  \\\n",
      "0                                            NaN   \n",
      "1                                            NaN   \n",
      "2                                            NaN   \n",
      "3                                            NaN   \n",
      "4                                              1   \n",
      "5                                         Plenty   \n",
      "6                                              6   \n",
      "7                                              1   \n",
      "8                                              8   \n",
      "9                                      Frankrijk   \n",
      "10                                             7   \n",
      "11                                             5   \n",
      "12                             Enough for a week   \n",
      "13                                             7   \n",
      "14                                             6   \n",
      "15                                             5   \n",
      "16                                        239919   \n",
      "17                                         A lot   \n",
      "18                                            15   \n",
      "19                                             7   \n",
      "20                                             8   \n",
      "21                                            12   \n",
      "22                                           10+   \n",
      "23                                             9   \n",
      "24                                         Sette   \n",
      "25                                          Acht   \n",
      "26                                   10?????????   \n",
      "27                                             7   \n",
      "28                                             9   \n",
      "29                                             5   \n",
      "..                                           ...   \n",
      "113                                           15   \n",
      "114                                           12   \n",
      "115                                           10   \n",
      "116                                           15   \n",
      "117                                           15   \n",
      "118                                            4   \n",
      "119                                        ~1337   \n",
      "120                                           15   \n",
      "121                                         Some   \n",
      "122                                           10   \n",
      "123                                            5   \n",
      "124                                          NaN   \n",
      "125                                Around 5 to 8   \n",
      "126                                            3   \n",
      "127                           did not count them   \n",
      "128                                  IDK stalker   \n",
      "129                                          400   \n",
      "130                                           15   \n",
      "131                                          NaN   \n",
      "132                                          NaN   \n",
      "133                                          NaN   \n",
      "134  https://www.youtube.com/watch?v=dQw4w9WgXcQ   \n",
      "135                                          the   \n",
      "136                                         role   \n",
      "137                                         bier   \n",
      "138                                        府会島畠事   \n",
      "139                                          NaN   \n",
      "140                                          NaN   \n",
      "141                                         bier   \n",
      "142                                            5   \n",
      "\n",
      "    What is the most you ever paid for trousers?  \\\n",
      "0                                            NaN   \n",
      "1                                            NaN   \n",
      "2                                            NaN   \n",
      "3                                            NaN   \n",
      "4                                             60   \n",
      "5              A small loan of a million dollars   \n",
      "6                                            130   \n",
      "7                                             50   \n",
      "8                                            200   \n",
      "9                                        EnnEuro   \n",
      "10                                           80€   \n",
      "11                                           NaN   \n",
      "12                                 Bargain price   \n",
      "13                                     35 euro's   \n",
      "14                                      100 euro   \n",
      "15                                      100 euro   \n",
      "16                                            10   \n",
      "17                                       80 Euro   \n",
      "18                                          €200   \n",
      "19                                           €50   \n",
      "20                                           200   \n",
      "21                                            40   \n",
      "22                                        €150,-   \n",
      "23                                      90 euros   \n",
      "24                                centocinquanta   \n",
      "25                                        $99,99   \n",
      "26                                            60   \n",
      "27                                       tientje   \n",
      "28                                           250   \n",
      "29                                      100 euro   \n",
      "..                                           ...   \n",
      "113                                         €100   \n",
      "114                                           65   \n",
      "115                                          110   \n",
      "116                                         €100   \n",
      "117                                           50   \n",
      "118                                           60   \n",
      "119                                          -10   \n",
      "120                                          150   \n",
      "121                                         Dnno   \n",
      "122                                           60   \n",
      "123                                           80   \n",
      "124                                          NaN   \n",
      "125                                  100 dollars   \n",
      "126                                          €60   \n",
      "127                                    dont'know   \n",
      "128                         Fuck these questions   \n",
      "129                                          10k   \n",
      "130                                          150   \n",
      "131                                          NaN   \n",
      "132                                          NaN   \n",
      "133                                          No    \n",
      "134  https://www.youtube.com/watch?v=dQw4w9WgXcQ   \n",
      "135                                        rules   \n",
      "136                                           me   \n",
      "137                                         bier   \n",
      "138                           政子終食国断創。威講頑来般症懸経例門   \n",
      "139                                          NaN   \n",
      "140                                          NaN   \n",
      "141                                         bier   \n",
      "142                                       40 EUR   \n",
      "\n",
      "    What annual income do you expect to be earning in ten years’ time?  \\\n",
      "0                                                  NaN                   \n",
      "1                                                  NaN                   \n",
      "2                                                  NaN                   \n",
      "3                                                  NaN                   \n",
      "4                                             infinity                   \n",
      "5                    A small loan of a million dollars                   \n",
      "6                                               100000                   \n",
      "7                                             10000000                   \n",
      "8                                                40000                   \n",
      "9                                    Vlaamse frittekes                   \n",
      "10                                          1.000.000€                   \n",
      "11                                                 NaN                   \n",
      "12                                    Googolplex Euros                   \n",
      "13                                               45000                   \n",
      "14                                              25.000                   \n",
      "15                                           2500 euro                   \n",
      "16                                           trillions                   \n",
      "17                                         65.000 Euro                   \n",
      "18                                              €4.000                   \n",
      "19                                             €50.000                   \n",
      "20                                                 50k                   \n",
      "21                                               40000                   \n",
      "22                                               50000                   \n",
      "23                                          Eh no idea                   \n",
      "24                                             milioni                   \n",
      "25                                             ￥375000                   \n",
      "26                                              enough                   \n",
      "27                                              60.000                   \n",
      "28                                               50000                   \n",
      "29                                         50.000 euro                   \n",
      "..                                                 ...                   \n",
      "113                                            €40.000                   \n",
      "114                                              A lot                   \n",
      "115                                             60.000                   \n",
      "116                                            €40.000                   \n",
      "117                                            1337000                   \n",
      "118                                              32000                   \n",
      "119                                      10000000e1000                   \n",
      "120                                                50k                   \n",
      "121                                         Reasonable                   \n",
      "122                                                51k                   \n",
      "123                                              30000                   \n",
      "124                                                NaN                   \n",
      "125                                              80000                   \n",
      "126                                              40000                   \n",
      "127                                                NaN                   \n",
      "128                                          3 million                   \n",
      "129                                         50000000kk                   \n",
      "130                                              23403                   \n",
      "131                                                NaN                   \n",
      "132                                                NaN                   \n",
      "133                                               more                   \n",
      "134        https://www.youtube.com/watch?v=dQw4w9WgXcQ                   \n",
      "135                                                and                   \n",
      "136                                                NaN                   \n",
      "137                                               bier                   \n",
      "138                                              府会島畠事                   \n",
      "139                                                NaN                   \n",
      "140                                                NaN                   \n",
      "141                                               bier                   \n",
      "142                                          20000 EUR                   \n",
      "\n",
      "    What do you think the average income for the class with be in ten years’ time?  \\\n",
      "0                                                  NaN                               \n",
      "1                                                  NaN                               \n",
      "2                                                  NaN                               \n",
      "3                                                  NaN                               \n",
      "4                                   less than infinity                               \n",
      "5                                  Very low, they suck                               \n",
      "6                                                40000                               \n",
      "7                                                40000                               \n",
      "8                                                30000                               \n",
      "9                                          Raketijsjes                               \n",
      "10                                                  3€                               \n",
      "11                                                 NaN                               \n",
      "12                                      Beggars change                               \n",
      "13                                               40000                               \n",
      "14                                              25.000                               \n",
      "15                                           2800 euro                               \n",
      "16                                     not, unemployed                               \n",
      "17                                         35.000 Euro                               \n",
      "18                                              €3.000                               \n",
      "19                                             No clue                               \n",
      "20                                                 50k                               \n",
      "21                                                   2                               \n",
      "22                                               50000                               \n",
      "23                                             No idea                               \n",
      "24                                               mille                               \n",
      "25                                             €50.000                               \n",
      "26                                        minimun wage                               \n",
      "27                                              60.000                               \n",
      "28                                                4000                               \n",
      "29                                         35.000 euro                               \n",
      "..                                                 ...                               \n",
      "113                                            €35.000                               \n",
      "114                                      About as much                               \n",
      "115                                             60.000                               \n",
      "116                                            €35.000                               \n",
      "117                                                .01                               \n",
      "118                                              32000                               \n",
      "119                                         googolplex                               \n",
      "120                                                50k                               \n",
      "121                                               Dnno                               \n",
      "122                                                50k                               \n",
      "123                                              25000                               \n",
      "124                                                NaN                               \n",
      "125                                              40000                               \n",
      "126                                              40000                               \n",
      "127                                                NaN                               \n",
      "128                                               3000                               \n",
      "129                                          1242112kk                               \n",
      "130                                              23402                               \n",
      "131                                                NaN                               \n",
      "132                                                NaN                               \n",
      "133                                                  !                               \n",
      "134        https://www.youtube.com/watch?v=dQw4w9WgXcQ                               \n",
      "135                                                 so                               \n",
      "136                                                NaN                               \n",
      "137                                               bier                               \n",
      "138                                                外拡不                               \n",
      "139                                                NaN                               \n",
      "140                                                NaN                               \n",
      "141                                               bier                               \n",
      "142                                          30000 EUR                               \n",
      "\n",
      "     What is the ideal age to get married?  \\\n",
      "0                                      NaN   \n",
      "1                                      NaN   \n",
      "2                                      NaN   \n",
      "3                                      NaN   \n",
      "4                                      NaN   \n",
      "5                                      NaN   \n",
      "6                                      NaN   \n",
      "7                                      NaN   \n",
      "8                                      NaN   \n",
      "9                                      NaN   \n",
      "10                                     NaN   \n",
      "11                                     NaN   \n",
      "12                                     NaN   \n",
      "13                                     NaN   \n",
      "14                                     NaN   \n",
      "15                                     NaN   \n",
      "16                                     NaN   \n",
      "17                                     NaN   \n",
      "18                                     NaN   \n",
      "19                                     NaN   \n",
      "20                                     NaN   \n",
      "21                                     NaN   \n",
      "22                                     NaN   \n",
      "23                                     NaN   \n",
      "24                                     NaN   \n",
      "25                                     NaN   \n",
      "26                                     NaN   \n",
      "27                                     NaN   \n",
      "28                                     NaN   \n",
      "29                                     NaN   \n",
      "..                                     ...   \n",
      "113                                    NaN   \n",
      "114                                    NaN   \n",
      "115                                    NaN   \n",
      "116                                    NaN   \n",
      "117                                    NaN   \n",
      "118                                    NaN   \n",
      "119                                    NaN   \n",
      "120                                    NaN   \n",
      "121                                    NaN   \n",
      "122                                    NaN   \n",
      "123                                    NaN   \n",
      "124                                    NaN   \n",
      "125                                    NaN   \n",
      "126                                    NaN   \n",
      "127                                    NaN   \n",
      "128                                    NaN   \n",
      "129                                    NaN   \n",
      "130                                    NaN   \n",
      "131                                    NaN   \n",
      "132                                    NaN   \n",
      "133                                    NaN   \n",
      "134                                    NaN   \n",
      "135                                    NaN   \n",
      "136                                    NaN   \n",
      "137                                    NaN   \n",
      "138                                    NaN   \n",
      "139                                    NaN   \n",
      "140                                    NaN   \n",
      "141                                    NaN   \n",
      "142                                    NaN   \n",
      "\n",
      "      When did you start your studies at Fontys?  \n",
      "0                                         sdfasv  \n",
      "1                                            NaN  \n",
      "2                                            NaN  \n",
      "3                                            NaN  \n",
      "4                                           1111  \n",
      "5                                           2012  \n",
      "6                                           2012  \n",
      "7                                           1321  \n",
      "8                                           2012  \n",
      "9                                          Trump  \n",
      "10                                    Fall, 2012  \n",
      "11                                          2013  \n",
      "12                                          2014  \n",
      "13                                          2013  \n",
      "14                                          2013  \n",
      "15                                          2013  \n",
      "16                                   6 years ago  \n",
      "17                                September 2013  \n",
      "18                                     2012-2013  \n",
      "19                             February of 2014   \n",
      "20                                          2012  \n",
      "21                                   4 years ago  \n",
      "22                                          2013  \n",
      "23                                          2013  \n",
      "24                             Que duemiladodici  \n",
      "25                                            20  \n",
      "26                                     2012-2013  \n",
      "27                                          2013  \n",
      "28                                          2013  \n",
      "29                                September 2013  \n",
      "..                                           ...  \n",
      "113                                         2014  \n",
      "114                                         2014  \n",
      "115                                         2014  \n",
      "116                                         2014  \n",
      "117                                         2014  \n",
      "118                               September 2015  \n",
      "119                                         2013  \n",
      "120                                         2014  \n",
      "121                                  3 years ago  \n",
      "122                                         2014  \n",
      "123                               September 2014  \n",
      "124                                          IDK  \n",
      "125                                         2014  \n",
      "126                                         2014  \n",
      "127                                         2014  \n",
      "128                                          IDK  \n",
      "129                                          not  \n",
      "130                                         2013  \n",
      "131                                          NaN  \n",
      "132                                          NaN  \n",
      "133                                         hurt  \n",
      "134  https://www.youtube.com/watch?v=dQw4w9WgXcQ  \n",
      "135                                         do I  \n",
      "136                                           is  \n",
      "137                                         bier  \n",
      "138                                         覧断離外  \n",
      "139                                          NaN  \n",
      "140                                          NaN  \n",
      "141                                         bier  \n",
      "142                                         2014  \n",
      "\n",
      "[143 rows x 14 columns]\n"
     ]
    }
   ],
   "source": [
    "# read the contents of data.csv into a NumPy('data.csv', delimiter=';')\n",
    "# Open the file and turn the rows into a list\n",
    "\n",
    "import pandas as pd\n",
    "data = pd.read_csv('data.csv', delimiter=',')\n",
    "print(data)"
   ]
  },
  {
   "cell_type": "code",
   "execution_count": 15,
   "metadata": {},
   "outputs": [
    {
     "data": {
      "text/plain": [
       "array([[ 2010.,    43.,    15.],\n",
       "       [ 2011.,    41.,     7.]])"
      ]
     },
     "execution_count": 15,
     "metadata": {},
     "output_type": "execute_result"
    }
   ],
   "source": [
    "# The header row is convenient when using labeled columns in pandas, but here we want to ignore it.\n",
    "# Remove the header row and show only the first two rows\n"
   ]
  },
  {
   "cell_type": "markdown",
   "metadata": {},
   "source": [
    "#### Indexing, Slicing and Masking"
   ]
  },
  {
   "cell_type": "code",
   "execution_count": 41,
   "metadata": {},
   "outputs": [
    {
     "name": "stdout",
     "output_type": "stream",
     "text": [
      "[[ 0  1  2  3]\n",
      " [ 4  5  6  7]\n",
      " [ 8  9 10 11]]\n"
     ]
    },
    {
     "data": {
      "text/plain": [
       "array([0, 1, 2, 3])"
      ]
     },
     "execution_count": 41,
     "metadata": {},
     "output_type": "execute_result"
    }
   ],
   "source": [
    "# Get the first row from matrix M: array([[ 0,  1,  2,  3], [ 4,  5,  6,  7], [ 8,  9, 10, 11]])\n",
    "M = np.arange(12).reshape(3,4)\n",
    "print(M)\n",
    "M[0]"
   ]
  },
  {
   "cell_type": "code",
   "execution_count": 42,
   "metadata": {},
   "outputs": [
    {
     "data": {
      "text/plain": [
       "array([1, 5, 9])"
      ]
     },
     "execution_count": 42,
     "metadata": {},
     "output_type": "execute_result"
    }
   ],
   "source": [
    "# Get the second column from M\n"
   ]
  },
  {
   "cell_type": "code",
   "execution_count": 43,
   "metadata": {},
   "outputs": [
    {
     "data": {
      "text/plain": [
       "True"
      ]
     },
     "execution_count": 43,
     "metadata": {},
     "output_type": "execute_result"
    }
   ],
   "source": [
    "# We already used the reshape method to change an array's shape\n",
    "# You can also do this using an np.newaxis object in a slice tuple:\n",
    "a = np.arange(12)\n",
    "a.reshape(12,1).shape == a[:,np.newaxis].shape"
   ]
  },
  {
   "cell_type": "code",
   "execution_count": 48,
   "metadata": {},
   "outputs": [
    {
     "data": {
      "text/plain": [
       "array([0, 2, 4, 6, 8])"
      ]
     },
     "execution_count": 48,
     "metadata": {},
     "output_type": "execute_result"
    }
   ],
   "source": [
    "# You can use a boolean expression on an array to mask elements from that array\n",
    "a = np.arange(10)\n",
    "a[a % 2 == 0]"
   ]
  },
  {
   "cell_type": "code",
   "execution_count": 52,
   "metadata": {},
   "outputs": [
    {
     "name": "stdout",
     "output_type": "stream",
     "text": [
      "[0 1 2 3 4 5 6 7 8 9]\n",
      "[0 1 2 3 4]\n"
     ]
    }
   ],
   "source": [
    "# Divide all even numbers in an array by 2\n",
    "a = np.arange(10)\n",
    "\n",
    "# Use integer division (//) if you want to maintain the integer data type:\n"
   ]
  },
  {
   "cell_type": "code",
   "execution_count": 50,
   "metadata": {},
   "outputs": [
    {
     "data": {
      "text/plain": [
       "array([[ 1. ,  0.5,  1. ],\n",
       "       [ 1. ,  0.5,  1. ]])"
      ]
     },
     "execution_count": 50,
     "metadata": {},
     "output_type": "execute_result"
    }
   ],
   "source": [
    "# Divide all elements from the second column of a 2x3 matrix by 2\n",
    "a = np.ones(6).reshape(2,3)\n",
    "a[:,1] /= 2\n",
    "a"
   ]
  },
  {
   "cell_type": "code",
   "execution_count": 53,
   "metadata": {},
   "outputs": [
    {
     "data": {
      "text/plain": [
       "array([[1, 2],\n",
       "       [4, 5],\n",
       "       [5, 6]])"
      ]
     },
     "execution_count": 53,
     "metadata": {},
     "output_type": "execute_result"
    }
   ],
   "source": [
    "# Strip the last value from each row in a 2-dim array (for instance a calculated row total)\n",
    "a = np.array([[1,2,3],[4,5,9],[5,6,11]])\n",
    "# now strip the last value from each row"
   ]
  },
  {
   "cell_type": "markdown",
   "metadata": {},
   "source": [
    "There are a lot of indexing and slicing techniques in NumPy that can save you of lot of programming in preparing your data for any machine learning algorithm. Consult the [chapter on indexing in the NumPy tutorial](http://docs.scipy.org/doc/numpy/user/basics.indexing.html) to get a fairly complete list of various techniques."
   ]
  },
  {
   "cell_type": "markdown",
   "metadata": {},
   "source": [
    "#### Simple Array Operations"
   ]
  },
  {
   "cell_type": "code",
   "execution_count": 4,
   "metadata": {},
   "outputs": [
    {
     "name": "stdout",
     "output_type": "stream",
     "text": [
      "[1 2 3]\n",
      "[3 3 3]\n",
      "[4 5 6]\n",
      "[4 5 6]\n"
     ]
    },
    {
     "data": {
      "text/plain": [
       "array([ True,  True,  True], dtype=bool)"
      ]
     },
     "execution_count": 4,
     "metadata": {},
     "output_type": "execute_result"
    }
   ],
   "source": [
    "# Given a = array(1,2,3) and b = array(3,3,3), verify that a+b is equal to a+3\n",
    "a = np.arange(1,4)\n",
    "print(a)\n",
    "b = np.array([3] * 3)\n",
    "print(b)\n",
    "print(a + b)\n",
    "print(a + 3)\n",
    "a + b == a + 3"
   ]
  },
  {
   "cell_type": "code",
   "execution_count": 5,
   "metadata": {},
   "outputs": [
    {
     "data": {
      "text/plain": [
       "True"
      ]
     },
     "execution_count": 5,
     "metadata": {},
     "output_type": "execute_result"
    }
   ],
   "source": [
    "# or:\n",
    "np.all(a + b == a + 3)"
   ]
  },
  {
   "cell_type": "code",
   "execution_count": 58,
   "metadata": {},
   "outputs": [
    {
     "name": "stdout",
     "output_type": "stream",
     "text": [
      "2\n",
      "2\n",
      "2\n"
     ]
    }
   ],
   "source": [
    "# Get the number of elements larger than 1 from array a\n",
    "print(a[a > 1].size)\n",
    "# a bit slower:\n",
    "print(len(a[a > 1]))\n",
    "# much slower (test with %timeit):\n",
    "print(sum(a > 1))"
   ]
  },
  {
   "cell_type": "code",
   "execution_count": 59,
   "metadata": {
    "scrolled": true
   },
   "outputs": [
    {
     "data": {
      "text/plain": [
       "2"
      ]
     },
     "execution_count": 59,
     "metadata": {},
     "output_type": "execute_result"
    }
   ],
   "source": [
    "# Considering the result of previous question, how would you count the nr of elements > 5 in a*b\n"
   ]
  },
  {
   "cell_type": "code",
   "execution_count": 60,
   "metadata": {},
   "outputs": [
    {
     "data": {
      "text/plain": [
       "2"
      ]
     },
     "execution_count": 60,
     "metadata": {},
     "output_type": "execute_result"
    }
   ],
   "source": [
    "# And how would you count the number of elements in b that are larger than their counterpart in a\n"
   ]
  },
  {
   "cell_type": "code",
   "execution_count": 62,
   "metadata": {},
   "outputs": [
    {
     "data": {
      "text/plain": [
       "array([[1, 4],\n",
       "       [2, 5],\n",
       "       [3, 6]])"
      ]
     },
     "execution_count": 62,
     "metadata": {},
     "output_type": "execute_result"
    }
   ],
   "source": [
    "# Transpose  3 by 2 array((1,2,3), (4,5,6) to 2 by 3 array((1,4), (2,5), (3,6))\n",
    "# In numpy we have a proper transpose function\n",
    "np.transpose(np.arange(1,7).reshape(2,3))"
   ]
  },
  {
   "cell_type": "code",
   "execution_count": 6,
   "metadata": {},
   "outputs": [
    {
     "data": {
      "text/plain": [
       "array([[1, 4],\n",
       "       [2, 5],\n",
       "       [3, 6]])"
      ]
     },
     "execution_count": 6,
     "metadata": {},
     "output_type": "execute_result"
    }
   ],
   "source": [
    "# or, using the T attribute:\n"
   ]
  },
  {
   "cell_type": "code",
   "execution_count": 63,
   "metadata": {},
   "outputs": [
    {
     "data": {
      "text/plain": [
       "array([[1, 2],\n",
       "       [3, 4],\n",
       "       [5, 6]])"
      ]
     },
     "execution_count": 63,
     "metadata": {},
     "output_type": "execute_result"
    }
   ],
   "source": [
    "# note this is not the same as:\n",
    "np.arange(1,7).reshape(2,3).reshape(3,2)"
   ]
  },
  {
   "cell_type": "code",
   "execution_count": 4,
   "metadata": {},
   "outputs": [
    {
     "ename": "NameError",
     "evalue": "name 'np' is not defined",
     "output_type": "error",
     "traceback": [
      "\u001b[0;31m---------------------------------------------------------------------------\u001b[0m",
      "\u001b[0;31mNameError\u001b[0m                                 Traceback (most recent call last)",
      "\u001b[0;32m<ipython-input-4-356b3ca639fd>\u001b[0m in \u001b[0;36m<module>\u001b[0;34m()\u001b[0m\n\u001b[1;32m      9\u001b[0m \u001b[0mlu1\u001b[0m \u001b[0;34m=\u001b[0m \u001b[0;34m[\u001b[0m\u001b[0;34m'B'\u001b[0m\u001b[0;34m,\u001b[0m \u001b[0;34m'M'\u001b[0m\u001b[0;34m,\u001b[0m \u001b[0;34m'S'\u001b[0m\u001b[0;34m,\u001b[0m \u001b[0;34m'T'\u001b[0m\u001b[0;34m]\u001b[0m\u001b[0;34m\u001b[0m\u001b[0m\n\u001b[1;32m     10\u001b[0m \u001b[0mlu2\u001b[0m \u001b[0;34m=\u001b[0m \u001b[0;34m[\u001b[0m\u001b[0;34m'blauw'\u001b[0m\u001b[0;34m,\u001b[0m \u001b[0;34m'geel'\u001b[0m\u001b[0;34m,\u001b[0m \u001b[0;34m'groen'\u001b[0m\u001b[0;34m,\u001b[0m \u001b[0;34m'oranje'\u001b[0m\u001b[0;34m,\u001b[0m \u001b[0;34m'rood'\u001b[0m\u001b[0;34m]\u001b[0m\u001b[0;34m\u001b[0m\u001b[0m\n\u001b[0;32m---> 11\u001b[0;31m \u001b[0mhash\u001b[0m \u001b[0;34m=\u001b[0m \u001b[0;34m[\u001b[0m\u001b[0mnp\u001b[0m\u001b[0;34m.\u001b[0m\u001b[0mwhere\u001b[0m\u001b[0;34m(\u001b[0m\u001b[0marray\u001b[0m\u001b[0;34m==\u001b[0m\u001b[0mitem\u001b[0m\u001b[0;34m)\u001b[0m\u001b[0;34m]\u001b[0m\u001b[0;34m\u001b[0m\u001b[0m\n\u001b[0m",
      "\u001b[0;31mNameError\u001b[0m: name 'np' is not defined"
     ]
    }
   ],
   "source": [
    "# Typical sklearn problem: \n",
    "# Change [['M', 'S', 'B'], ['geel', 'rood', 'rood']] to array((1,3,4,2), (4,2,3,3)), where the values of both lists \n",
    "# are looked up in lists ['B', 'M', 'S', 'T']  and ['blauw', 'geel', 'groen', 'oranje', 'rood']\n",
    "# so, your result should be:\n",
    "# array([[1, 2, 0],\n",
    "#       [1, 4, 4]])\n",
    "l1 = ['M', 'S', 'B']\n",
    "l2 = ['geel', 'rood', 'rood']\n",
    "lu1 = ['B', 'M', 'S', 'T']\n",
    "lu2 = ['blauw', 'geel', 'groen', 'oranje', 'rood']\n"
   ]
  },
  {
   "cell_type": "code",
   "execution_count": 63,
   "metadata": {},
   "outputs": [
    {
     "name": "stdout",
     "output_type": "stream",
     "text": [
      "[ 7.46382114  6.29604408  3.97909001  6.0953203   7.79471675  5.54113485\n",
      "  6.86066945  5.05953602  5.72978186  7.54655786  4.30116048  7.36871852\n",
      "  4.77738294  6.50842848  6.54458511  5.42894291  7.885184    6.70399899\n",
      "  7.78216619  6.95001221]\n"
     ]
    },
    {
     "data": {
      "text/plain": [
       "5"
      ]
     },
     "execution_count": 63,
     "metadata": {},
     "output_type": "execute_result"
    }
   ],
   "source": [
    "# Count the number of fails in the randomly generated exam marks above\n",
    "a = np.random.normal(6.5, 1. , 20)\n",
    "print(a)\n",
    "# now create the count expression\n"
   ]
  },
  {
   "cell_type": "code",
   "execution_count": 64,
   "metadata": {},
   "outputs": [
    {
     "data": {
      "text/plain": [
       "array([[1, 2, 3],\n",
       "       [3, 4, 5]])"
      ]
     },
     "execution_count": 64,
     "metadata": {},
     "output_type": "execute_result"
    }
   ],
   "source": [
    "# Add column array(3,5) to array((1, 2), (3, 4)) to form array((1, 2, 3), (3, 4, 5))\n",
    "# Use np.append, read carefully and think hard\n",
    "# Try some variations yourself\n",
    "a = np.arange(1,5).reshape(2,2)\n",
    "np.append(a, [[3],[5]], axis=1)"
   ]
  },
  {
   "cell_type": "code",
   "execution_count": 13,
   "metadata": {},
   "outputs": [
    {
     "data": {
      "text/plain": [
       "array([[ 1.,  2.,  3.,  0.],\n",
       "       [ 4.,  5.,  6.,  0.],\n",
       "       [ 7.,  8.,  9.,  0.]])"
      ]
     },
     "execution_count": 13,
     "metadata": {},
     "output_type": "execute_result"
    }
   ],
   "source": [
    "# A more generic solution for adding a column of zeroes to any matrix would be:\n",
    "nrRows = 3\n",
    "a = np.arange(1,10).reshape(nrRows, nrRows)\n",
    "# Using list comprehension to morph the column to add in its required form\n",
    "np.append(a, [[n] for n in [0]*nrRows], axis = 1)\n",
    "# Or using np.zeros (careful with the parameters: first param is a tuple)\n",
    "np.append(a, np.zeros((nrRows,1)), axis=1)"
   ]
  },
  {
   "cell_type": "code",
   "execution_count": 24,
   "metadata": {},
   "outputs": [
    {
     "data": {
      "text/plain": [
       "array([[ 1.,  2.,  3.,  0.],\n",
       "       [ 4.,  5.,  6.,  0.],\n",
       "       [ 7.,  8.,  9.,  0.]])"
      ]
     },
     "execution_count": 24,
     "metadata": {},
     "output_type": "execute_result"
    }
   ],
   "source": [
    "# or (study carefully):\n",
    "a = np.arange(1,10).reshape(3, 3)\n",
    "np.append(a.T, np.zeros((1,3)), axis=0).T"
   ]
  },
  {
   "cell_type": "markdown",
   "metadata": {},
   "source": [
    "#### Vectorization"
   ]
  },
  {
   "cell_type": "markdown",
   "metadata": {},
   "source": [
    "We already saw some examples of vectorization: `a % 2` and `a + 3` are simple examples of NumPy's vectorization capabilities. The operator and the non-array operand are applied to all elements in the array.\n",
    "You can also vectorize your own functions over an array using `np.vectorize()`"
   ]
  },
  {
   "cell_type": "code",
   "execution_count": 66,
   "metadata": {},
   "outputs": [
    {
     "name": "stdout",
     "output_type": "stream",
     "text": [
      "[0 1 2 3 4] [5 4 3 2 1]\n"
     ]
    },
    {
     "data": {
      "text/plain": [
       "array([4, 3, 2, 1, 0])"
      ]
     },
     "execution_count": 66,
     "metadata": {},
     "output_type": "execute_result"
    }
   ],
   "source": [
    "a1 = np.arange(0, 5)\n",
    "a2 = np.arange(5, 0, -1)\n",
    "print(a1, a2)\n",
    "a1[4::-1]"
   ]
  },
  {
   "cell_type": "markdown",
   "metadata": {},
   "source": [
    "You can also apply this principle of vectorization to your functions. That is, you can vectorize you function over your NumPy array using np.vectorize"
   ]
  },
  {
   "cell_type": "code",
   "execution_count": 67,
   "metadata": {},
   "outputs": [
    {
     "data": {
      "text/plain": [
       "array([ 0,  6, 12, 18, 24, 30, 36, 42, 48, 54, 60, 66, 72, 78, 84, 90, 96])"
      ]
     },
     "execution_count": 67,
     "metadata": {},
     "output_type": "execute_result"
    }
   ],
   "source": [
    "def foo(x):\n",
    "    return x%2 == 0 and x%3 == 0\n",
    "\n",
    "a = np.arange(100)\n",
    "a[np.vectorize(foo)(a)]"
   ]
  },
  {
   "cell_type": "markdown",
   "metadata": {},
   "source": [
    "Look carefully at the previous construction: ``np.vectorize()`` returns a new function that is immediately called with the parameter a. This should look familiar to those of you having worked with JavaScript where you often apply a function immediately at definition. By using a lambda, you can also use an anonymous function for vectorization."
   ]
  },
  {
   "cell_type": "code",
   "execution_count": 70,
   "metadata": {},
   "outputs": [
    {
     "data": {
      "text/plain": [
       "array([ 0,  6, 12, 18, 24, 30, 36, 42, 48, 54, 60, 66, 72, 78, 84, 90, 96])"
      ]
     },
     "execution_count": 70,
     "metadata": {},
     "output_type": "execute_result"
    }
   ],
   "source": [
    "# create the same list using vectorization with a lambda\n",
    "a[np.vectorize(lambda x: x%2 == 0 and x%3 == 0)(a)]"
   ]
  }
 ],
 "metadata": {
  "kernelspec": {
   "display_name": "Python 3",
   "language": "python",
   "name": "python3"
  },
  "language_info": {
   "codemirror_mode": {
    "name": "ipython",
    "version": 3
   },
   "file_extension": ".py",
   "mimetype": "text/x-python",
   "name": "python",
   "nbconvert_exporter": "python",
   "pygments_lexer": "ipython3",
   "version": "3.6.1"
  }
 },
 "nbformat": 4,
 "nbformat_minor": 1
}
